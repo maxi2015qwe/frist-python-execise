{
 "cells": [
  {
   "cell_type": "markdown",
   "id": "bb341a8b",
   "metadata": {},
   "source": [
    "## Exercise 1\n"
   ]
  },
  {
   "cell_type": "code",
   "execution_count": 5,
   "id": "8721d6e3",
   "metadata": {},
   "outputs": [
    {
     "name": "stdout",
     "output_type": "stream",
     "text": [
      "Bo\n"
     ]
    }
   ],
   "source": [
    "my_name='Bo'\n",
    "print(my_name)"
   ]
  },
  {
   "cell_type": "markdown",
   "id": "f6406907",
   "metadata": {},
   "source": [
    "## Exercise 2"
   ]
  },
  {
   "cell_type": "code",
   "execution_count": 6,
   "id": "0b76b27f",
   "metadata": {},
   "outputs": [
    {
     "name": "stdout",
     "output_type": "stream",
     "text": [
      "Bo\n"
     ]
    }
   ],
   "source": [
    "age=33\n",
    "print(my_name)"
   ]
  },
  {
   "cell_type": "markdown",
   "id": "e79d139b",
   "metadata": {},
   "source": [
    "## Exercise 3"
   ]
  },
  {
   "cell_type": "code",
   "execution_count": 7,
   "id": "d3cba52d",
   "metadata": {},
   "outputs": [
    {
     "name": "stdout",
     "output_type": "stream",
     "text": [
      "1\n"
     ]
    }
   ],
   "source": [
    "julia_age= 32\n",
    "age_diff=age-julia_age\n",
    "print(age_diff)\n"
   ]
  },
  {
   "cell_type": "markdown",
   "id": "58f073d4",
   "metadata": {},
   "source": [
    "## Exercise 4"
   ]
  },
  {
   "cell_type": "code",
   "execution_count": null,
   "id": "73e5f114",
   "metadata": {},
   "outputs": [
    {
     "name": "stdout",
     "output_type": "stream",
     "text": [
      "You are not older than 21\n"
     ]
    }
   ],
   "source": [
    "number=21\n",
    "age21=age-number\n",
    "if age21<21:\n",
    "    print(\"You are not older than 21\")\n",
    "else:\n",
    "    print(\"You are older than 21\")    "
   ]
  },
  {
   "cell_type": "markdown",
   "id": "c7dd00d0",
   "metadata": {},
   "source": [
    "## Exercise 5"
   ]
  },
  {
   "cell_type": "code",
   "execution_count": 9,
   "id": "6b6a4ca6",
   "metadata": {},
   "outputs": [
    {
     "name": "stdout",
     "output_type": "stream",
     "text": [
      "Julia is younger than you\n"
     ]
    }
   ],
   "source": [
    "if julia_age<age:\n",
    "    print('Julia is younger than you')\n",
    "elif julia_age==age:\n",
    "\n",
    "    print('You are the same age as Julia')\n",
    "\n",
    "else:\n",
    "    print('Julia is older than you')"
   ]
  },
  {
   "cell_type": "markdown",
   "id": "60874766",
   "metadata": {},
   "source": [
    "## Exercise 6"
   ]
  },
  {
   "cell_type": "code",
   "execution_count": 10,
   "id": "b6a1678d",
   "metadata": {},
   "outputs": [
    {
     "name": "stdout",
     "output_type": "stream",
     "text": [
      "['Bo', 'Bruno', 'Bishnu ', 'Marcos ', 'Rahul', 'Janina ']\n",
      "Janina \n",
      "Bo\n",
      "Bruno\n",
      "Bishnu \n",
      "Marcos \n",
      "Rahul\n",
      "Janina \n"
     ]
    }
   ],
   "source": [
    "name_list=['Bo' , 'Bruno', 'Bishnu ', 'Marcos ','Rahul','Janina ']\n",
    "name_list.sort\n",
    "print(name_list)\n",
    "\n",
    "print(name_list[-1])\n",
    "\n",
    "new_list =[print(i) for i in name_list]\n",
    "# print([i for i in name_list])\n",
    "# for i in name_list:\n",
    "#     print(i)\n"
   ]
  },
  {
   "cell_type": "markdown",
   "id": "42cd608f",
   "metadata": {},
   "source": [
    "## Exercise 7"
   ]
  },
  {
   "cell_type": "code",
   "execution_count": 11,
   "id": "45f731dc",
   "metadata": {},
   "outputs": [
    {
     "name": "stdout",
     "output_type": "stream",
     "text": [
      "20 21 22 23 24 \n",
      "20 22 24 "
     ]
    }
   ],
   "source": [
    "age_list=[20, 21,22,23,24]\n",
    "for i in age_list:\n",
    "    print(i,end=' ')\n",
    "print()    \n",
    "    # if i %2==0:\n",
    "    #     print(i)\n",
    "even_list= [i for i in age_list if i %2==0]\n",
    "for i in even_list:\n",
    "    print(i,end=' ')\n",
    "# [print(i) for i in age_list if i %2==0]\n"
   ]
  },
  {
   "cell_type": "markdown",
   "id": "8164ac4e",
   "metadata": {},
   "source": [
    "## Exercise 8"
   ]
  },
  {
   "cell_type": "code",
   "execution_count": 12,
   "id": "d4f96b94",
   "metadata": {},
   "outputs": [
    {
     "name": "stdout",
     "output_type": "stream",
     "text": [
      "20\n"
     ]
    }
   ],
   "source": [
    "age_list=[20, 21,22,23,24]\n",
    "smallest = min(age_list)\n",
    "print(smallest) \n"
   ]
  },
  {
   "cell_type": "markdown",
   "id": "7b64a815",
   "metadata": {},
   "source": [
    "## Exercise 9"
   ]
  },
  {
   "cell_type": "code",
   "execution_count": null,
   "id": "fc815982",
   "metadata": {},
   "outputs": [
    {
     "name": "stdout",
     "output_type": "stream",
     "text": [
      "24\n"
     ]
    }
   ],
   "source": [
    "age_list=[20, 21,22,23,24]\n",
    "BIGGEST = max(age_list)\n",
    "print(BIGGEST) "
   ]
  },
  {
   "cell_type": "markdown",
   "id": "e0fc24f5",
   "metadata": {},
   "source": [
    "## Exercise 10"
   ]
  },
  {
   "cell_type": "code",
   "execution_count": 10,
   "id": "d03fd247",
   "metadata": {},
   "outputs": [
    {
     "name": "stdout",
     "output_type": "stream",
     "text": [
      "26\n",
      "30\n",
      "20\n",
      "15\n",
      "18\n",
      "19\n",
      "31\n",
      "29\n",
      "46\n",
      "17\n"
     ]
    }
   ],
   "source": [
    "customers= [1999, 1995, 2005, 2010, 2007, 2006, 1994, 1996, 1979, 2008]\n",
    "from datetime import datetime\n",
    "for i in customers:\n",
    "    aa=datetime.now().year\n",
    "    print(aa-i)"
   ]
  },
  {
   "cell_type": "markdown",
   "id": "dc1e0e62",
   "metadata": {},
   "source": [
    "## Exercise 11"
   ]
  },
  {
   "cell_type": "code",
   "execution_count": null,
   "id": "d8f87d37",
   "metadata": {},
   "outputs": [
    {
     "name": "stdout",
     "output_type": "stream",
     "text": [
      "<built-in method now of type object at 0x00007FF9C1269DE0>\n",
      "Bob 26\n",
      "Bob is 26 years old\n",
      "Jack 30\n",
      "Jack is 30 years old\n",
      "Lisa 20\n",
      "Lisa is 20 years old\n",
      "Maria 15\n",
      "Maria is 15 years old\n",
      "Ben 18\n",
      "Ben is 18 years old\n",
      "Emma 19\n",
      "Emma is 19 years old\n",
      "Oscar 31\n",
      "Oscar is 31 years old\n",
      "Amy 29\n",
      "Amy is 29 years old\n",
      "Paul 46\n",
      "Paul is 46 years old\n",
      "Etta 17\n",
      "Etta is 17 years old\n"
     ]
    }
   ],
   "source": [
    "customer_list = [\n",
    "                    {\"name\": \"Bob\", \"age\": 1999},\n",
    "                    {\"name\": \"Jack\", \"age\": 1995},\n",
    "                    {\"name\": \"Lisa\", \"age\": 2005},\n",
    "                    {\"name\": \"Maria\", \"age\": 2010},\n",
    "                    {\"name\": \"Ben\", \"age\": 2007},\n",
    "                    {\"name\": \"Emma\", \"age\": 2006},\n",
    "                    {\"name\": \"Oscar\", \"age\": 1994},\n",
    "                    {\"name\": \"Amy\", \"age\": 1996},\n",
    "                    {\"name\": \"Paul\", \"age\": 1979},\n",
    "                    {\"name\": \"Etta\", \"age\": 2008}\n",
    "                ]\n",
    "from datetime import datetime\n",
    "\n",
    "\n",
    "\n",
    "for i in customer_list:\n",
    "    name=i['name']\n",
    "    year=i['age']\n",
    "    age= datetime.now().year - year\n",
    "    print(name,age)\n",
    "    print(f\"{name} is {age} years old\") \n"
   ]
  },
  {
   "cell_type": "markdown",
   "id": "04cc7367",
   "metadata": {},
   "source": [
    "## Exercise 12"
   ]
  },
  {
   "cell_type": "code",
   "execution_count": 4,
   "id": "ae23c76c",
   "metadata": {},
   "outputs": [
    {
     "name": "stdout",
     "output_type": "stream",
     "text": [
      "[9, 11, 12, 13, 14, 20, 23, 24, 25, 40]\n",
      "[11, 12, 13, 14, 20, 23, 24, 25]\n"
     ]
    }
   ],
   "source": [
    "ages = [20, 24, 14, 9, 12, 13, 25, 23, 40, 11]\n",
    "\n",
    "ages.sort()\n",
    "print(ages)\n",
    "\n",
    "ages_filted=[x for x in ages[1:-1] ]\n",
    "# ages_filted=[x for x in ages ]\n",
    "\n",
    "# ages_filtered = [x for x in ages if x != min(ages) and x != max(ages)]\n",
    "# # ages_filted=[i for i in ages if ages.remove()]\n",
    "print(ages_filted)"
   ]
  },
  {
   "cell_type": "markdown",
   "id": "7f93c235",
   "metadata": {},
   "source": [
    "Exercise 13"
   ]
  },
  {
   "cell_type": "code",
   "execution_count": 17,
   "id": "63133e20",
   "metadata": {},
   "outputs": [
    {
     "name": "stdout",
     "output_type": "stream",
     "text": [
      "[15, 13, 16, 18, 19, 10]\n"
     ]
    }
   ],
   "source": [
    "berlin = [15, 13, 16, 18, 19, 10, 12 ]\n",
    "munich = [7, 13, 15, 20, 19, 18, 10, 16]\n",
    "\n",
    "# list=[x for x in berlin == y for y in munich]\n",
    "commonlist=[]\n",
    "for i in berlin:\n",
    "    for j in munich:\n",
    "        if i==j:\n",
    "            commonlist.append(i)\n",
    "    \n",
    "\n",
    "\n",
    "print(commonlist)"
   ]
  },
  {
   "cell_type": "markdown",
   "id": "1021419f",
   "metadata": {},
   "source": [
    "## Exercise 14"
   ]
  },
  {
   "cell_type": "code",
   "execution_count": 5,
   "id": "8924e0c4",
   "metadata": {},
   "outputs": [
    {
     "name": "stdout",
     "output_type": "stream",
     "text": [
      "[15, 13, 16, 18, 19, 10]\n"
     ]
    }
   ],
   "source": [
    "ages=[15, 13, 16, 18, 19, 15, 10]\n",
    "ages_unique = []\n",
    "for i in ages:\n",
    "    if i not in ages_unique:\n",
    "        ages_unique.append(i)\n",
    "print(ages_unique)"
   ]
  }
 ],
 "metadata": {
  "kernelspec": {
   "display_name": "CAB",
   "language": "python",
   "name": "python3"
  },
  "language_info": {
   "codemirror_mode": {
    "name": "ipython",
    "version": 3
   },
   "file_extension": ".py",
   "mimetype": "text/x-python",
   "name": "python",
   "nbconvert_exporter": "python",
   "pygments_lexer": "ipython3",
   "version": "3.12.11"
  }
 },
 "nbformat": 4,
 "nbformat_minor": 5
}

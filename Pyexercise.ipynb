{
 "cells": [
  {
   "cell_type": "markdown",
   "id": "bb341a8b",
   "metadata": {},
   "source": [
    "## Exercise 1\n"
   ]
  },
  {
   "cell_type": "code",
   "execution_count": null,
   "id": "8721d6e3",
   "metadata": {},
   "outputs": [],
   "source": [
    "my_name='Bo'\n",
    "print(my_name)"
   ]
  },
  {
   "cell_type": "markdown",
   "id": "f6406907",
   "metadata": {},
   "source": [
    "## Exercise 2"
   ]
  },
  {
   "cell_type": "code",
   "execution_count": null,
   "id": "0b76b27f",
   "metadata": {},
   "outputs": [],
   "source": [
    "age=33\n",
    "print(my_name)"
   ]
  },
  {
   "cell_type": "markdown",
   "id": "e79d139b",
   "metadata": {},
   "source": [
    "## Exercise 3"
   ]
  },
  {
   "cell_type": "code",
   "execution_count": null,
   "id": "d3cba52d",
   "metadata": {},
   "outputs": [],
   "source": [
    "julia_age= 32\n",
    "age_diff=age-julia_age\n",
    "print(age_diff)\n"
   ]
  },
  {
   "cell_type": "markdown",
   "id": "58f073d4",
   "metadata": {},
   "source": [
    "## Exercise 4"
   ]
  },
  {
   "cell_type": "code",
   "execution_count": null,
   "id": "73e5f114",
   "metadata": {},
   "outputs": [],
   "source": [
    "number=21\n",
    "age21=age-number\n",
    "if age21<21:\n",
    "    print(\"You are not older than 21\")\n",
    "else:\n",
    "    print(\"You are older than 21\")    "
   ]
  },
  {
   "cell_type": "markdown",
   "id": "c7dd00d0",
   "metadata": {},
   "source": [
    "## Exercise 5"
   ]
  },
  {
   "cell_type": "code",
   "execution_count": null,
   "id": "6b6a4ca6",
   "metadata": {},
   "outputs": [],
   "source": [
    "if julia_age<age:\n",
    "    print('Julia is younger than you')\n",
    "elif julia_age==age:\n",
    "\n",
    "    print('You are the same age as Julia')\n",
    "\n",
    "else:\n",
    "    print('Julia is older than you')"
   ]
  },
  {
   "cell_type": "markdown",
   "id": "60874766",
   "metadata": {},
   "source": [
    "## Exercise 6"
   ]
  },
  {
   "cell_type": "code",
   "execution_count": null,
   "id": "b6a1678d",
   "metadata": {},
   "outputs": [],
   "source": [
    "name_list=['Bo' , 'Bruno', 'Bishnu ', 'Marcos ','Rahul','Janina ']\n",
    "name_list.sort\n",
    "print(name_list)\n",
    "\n",
    "print(name_list[-1])\n",
    "\n",
    "new_list =[print(i) for i in name_list]\n",
    "# print([i for i in name_list])\n",
    "# for i in name_list:\n",
    "#     print(i)\n"
   ]
  },
  {
   "cell_type": "markdown",
   "id": "42cd608f",
   "metadata": {},
   "source": [
    "## Exercise 7"
   ]
  },
  {
   "cell_type": "code",
   "execution_count": 34,
   "id": "45f731dc",
   "metadata": {},
   "outputs": [
    {
     "name": "stdout",
     "output_type": "stream",
     "text": [
      "20 21 22 23 24 \n",
      "20 22 24 "
     ]
    }
   ],
   "source": [
    "age_list=[20, 21,22,23,24]\n",
    "for i in age_list:\n",
    "    print(i,end=' ')\n",
    "print()    \n",
    "    # if i %2==0:\n",
    "    #     print(i)\n",
    "even_list= [i for i in age_list if i %2==0]\n",
    "for i in even_list:\n",
    "    print(i,end=' ')\n",
    "# [print(i) for i in age_list if i %2==0]\n"
   ]
  },
  {
   "cell_type": "markdown",
   "id": "8164ac4e",
   "metadata": {},
   "source": [
    "## Exercise 8"
   ]
  },
  {
   "cell_type": "code",
   "execution_count": 43,
   "id": "d4f96b94",
   "metadata": {},
   "outputs": [
    {
     "name": "stdout",
     "output_type": "stream",
     "text": [
      "20\n"
     ]
    }
   ],
   "source": [
    "age_list=[20, 21,22,23,24]\n",
    "smallest = min(age_list)\n",
    "print(smallest) \n"
   ]
  },
  {
   "cell_type": "markdown",
   "id": "7b64a815",
   "metadata": {},
   "source": [
    "## Exercise 9"
   ]
  },
  {
   "cell_type": "code",
   "execution_count": 44,
   "id": "fc815982",
   "metadata": {},
   "outputs": [
    {
     "name": "stdout",
     "output_type": "stream",
     "text": [
      "24\n"
     ]
    }
   ],
   "source": [
    "age_list=[20, 21,22,23,24]\n",
    "smallest = max(age_list)\n",
    "print(smallest) "
   ]
  },
  {
   "cell_type": "markdown",
   "id": "e0fc24f5",
   "metadata": {},
   "source": [
    "## Exercise 10"
   ]
  },
  {
   "cell_type": "code",
   "execution_count": 46,
   "id": "d03fd247",
   "metadata": {},
   "outputs": [
    {
     "name": "stdout",
     "output_type": "stream",
     "text": [
      "1999\n",
      "1995\n",
      "2005\n",
      "2010\n",
      "2007\n",
      "2006\n",
      "1994\n",
      "1996\n",
      "1979\n",
      "2008\n"
     ]
    }
   ],
   "source": [
    "customers= [1999, 1995, 2005, 2010, 2007, 2006, 1994, 1996, 1979, 2008]\n",
    "for i in customers:\n",
    "    print(i)"
   ]
  },
  {
   "cell_type": "markdown",
   "id": "dc1e0e62",
   "metadata": {},
   "source": [
    "## Exercise 11"
   ]
  },
  {
   "cell_type": "code",
   "execution_count": 56,
   "id": "d8f87d37",
   "metadata": {},
   "outputs": [
    {
     "name": "stdout",
     "output_type": "stream",
     "text": [
      "Bob 1999\n",
      "Bob is 1999 years old\n",
      "Jack 1995\n",
      "Jack is 1995 years old\n",
      "Lisa 2005\n",
      "Lisa is 2005 years old\n",
      "Maria 2010\n",
      "Maria is 2010 years old\n",
      "Ben 2007\n",
      "Ben is 2007 years old\n",
      "Emma 2006\n",
      "Emma is 2006 years old\n",
      "Oscar 1994\n",
      "Oscar is 1994 years old\n",
      "Amy 1996\n",
      "Amy is 1996 years old\n",
      "Paul 1979\n",
      "Paul is 1979 years old\n",
      "Etta 2008\n",
      "Etta is 2008 years old\n"
     ]
    }
   ],
   "source": [
    "customer_list = [\n",
    "                    {\"name\": \"Bob\", \"age\": 1999},\n",
    "                    {\"name\": \"Jack\", \"age\": 1995},\n",
    "                    {\"name\": \"Lisa\", \"age\": 2005},\n",
    "                    {\"name\": \"Maria\", \"age\": 2010},\n",
    "                    {\"name\": \"Ben\", \"age\": 2007},\n",
    "                    {\"name\": \"Emma\", \"age\": 2006},\n",
    "                    {\"name\": \"Oscar\", \"age\": 1994},\n",
    "                    {\"name\": \"Amy\", \"age\": 1996},\n",
    "                    {\"name\": \"Paul\", \"age\": 1979},\n",
    "                    {\"name\": \"Etta\", \"age\": 2008}\n",
    "                ]\n",
    "\n",
    "for i in customer_list:\n",
    "    name=i['name']\n",
    "    age=i['age']\n",
    "    print(name,age)\n",
    "    print(f\"{name} is {age} years old\") \n"
   ]
  },
  {
   "cell_type": "markdown",
   "id": "04cc7367",
   "metadata": {},
   "source": [
    "## Exercise 12"
   ]
  },
  {
   "cell_type": "code",
   "execution_count": 67,
   "id": "ae23c76c",
   "metadata": {},
   "outputs": [
    {
     "name": "stdout",
     "output_type": "stream",
     "text": [
      "[9, 11, 12, 13, 14, 20, 23, 24, 25, 40]\n"
     ]
    }
   ],
   "source": [
    "ages = [20, 24, 14, 9, 12, 13, 25, 23, 40, 11]\n",
    "\n",
    "ages.sort()\n",
    "print(ages)\n",
    "\n",
    "ages_filted=[x for x in ages[1:-1] ]\n",
    "# ages_filted=[x for x in ages ]\n",
    "\n",
    "# ages_filtered = [x for x in ages if x != min(ages) and x != max(ages)]\n",
    "# # ages_filted=[i for i in ages if ages.remove()]\n",
    "# print(ages_filtered)"
   ]
  },
  {
   "cell_type": "markdown",
   "id": "7f93c235",
   "metadata": {},
   "source": [
    "Exercise 13"
   ]
  },
  {
   "cell_type": "code",
   "execution_count": null,
   "id": "63133e20",
   "metadata": {},
   "outputs": [
    {
     "ename": "AttributeError",
     "evalue": "'NoneType' object has no attribute 'append'",
     "output_type": "error",
     "traceback": [
      "\u001b[31m---------------------------------------------------------------------------\u001b[39m",
      "\u001b[31mAttributeError\u001b[39m                            Traceback (most recent call last)",
      "\u001b[36mCell\u001b[39m\u001b[36m \u001b[39m\u001b[32mIn[71]\u001b[39m\u001b[32m, line 9\u001b[39m\n\u001b[32m      7\u001b[39m     \u001b[38;5;28;01mfor\u001b[39;00m j \u001b[38;5;129;01min\u001b[39;00m munich:\n\u001b[32m      8\u001b[39m         \u001b[38;5;28;01mif\u001b[39;00m i==j:\n\u001b[32m----> \u001b[39m\u001b[32m9\u001b[39m             commonlist=\u001b[43mcommonlist\u001b[49m\u001b[43m.\u001b[49m\u001b[43mappend\u001b[49m(i)\n\u001b[32m     13\u001b[39m \u001b[38;5;28mprint\u001b[39m(commonlist)\n",
      "\u001b[31mAttributeError\u001b[39m: 'NoneType' object has no attribute 'append'"
     ]
    }
   ],
   "source": [
    "berlin = [15, 13, 16, 18, 19, 10, 12 ]\n",
    "munich = [7, 13, 15, 20, 19, 18, 10, 16]\n",
    "\n",
    "# list=[x for x in berlin == y for y in munich]\n",
    "commonlist=[]\n",
    "for i in berlin:\n",
    "    for j in munich:\n",
    "        if i==j:\n",
    "            commonlist.append(i)\n",
    "    \n",
    "\n",
    "\n",
    "print(commonlist)"
   ]
  }
 ],
 "metadata": {
  "kernelspec": {
   "display_name": "CAB",
   "language": "python",
   "name": "python3"
  },
  "language_info": {
   "codemirror_mode": {
    "name": "ipython",
    "version": 3
   },
   "file_extension": ".py",
   "mimetype": "text/x-python",
   "name": "python",
   "nbconvert_exporter": "python",
   "pygments_lexer": "ipython3",
   "version": "3.12.11"
  }
 },
 "nbformat": 4,
 "nbformat_minor": 5
}

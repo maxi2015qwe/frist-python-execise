{
 "cells": [
  {
   "cell_type": "markdown",
   "id": "c1dac390",
   "metadata": {},
   "source": [
    "# 15"
   ]
  },
  {
   "cell_type": "code",
   "execution_count": null,
   "id": "0e9f571f",
   "metadata": {},
   "outputs": [
    {
     "data": {
      "text/plain": [
       "'Welcome Bo, have a nice day!'"
      ]
     },
     "execution_count": 3,
     "metadata": {},
     "output_type": "execute_result"
    }
   ],
   "source": [
    "def welcome(name:str):\n",
    "    return f'Welcome {name}, have a nice day!'\n",
    "\n",
    "welcome(\"Bo\")"
   ]
  },
  {
   "cell_type": "markdown",
   "id": "b728f9e5",
   "metadata": {},
   "source": [
    "# 16"
   ]
  },
  {
   "cell_type": "code",
   "execution_count": 4,
   "id": "e6f87f71",
   "metadata": {},
   "outputs": [
    {
     "data": {
      "text/plain": [
       "5"
      ]
     },
     "execution_count": 4,
     "metadata": {},
     "output_type": "execute_result"
    }
   ],
   "source": [
    "def get_length(x:str):\n",
    "    return len(x)\n",
    "\n",
    "get_length('hello')"
   ]
  },
  {
   "cell_type": "markdown",
   "id": "0d373c41",
   "metadata": {},
   "source": [
    "# 17"
   ]
  },
  {
   "cell_type": "code",
   "execution_count": 6,
   "id": "4cfb6ddd",
   "metadata": {},
   "outputs": [
    {
     "data": {
      "text/plain": [
       "'no'"
      ]
     },
     "execution_count": 6,
     "metadata": {},
     "output_type": "execute_result"
    }
   ],
   "source": [
    "def check_even(num):\n",
    "    if num %2==0:\n",
    "        return 'yes'\n",
    "    return 'no'\n",
    "\n",
    "check_even(9)\n"
   ]
  },
  {
   "cell_type": "markdown",
   "id": "ce7e30c2",
   "metadata": {},
   "source": [
    "# 18"
   ]
  },
  {
   "cell_type": "code",
   "execution_count": 2,
   "id": "f1f393b1",
   "metadata": {},
   "outputs": [
    {
     "name": "stdout",
     "output_type": "stream",
     "text": [
      "Bob is 26 years old\n",
      "Jack is 30 years old\n",
      "Lisa is 20 years old\n",
      "Maria is 15 years old\n",
      "Ben is 18 years old\n",
      "Emma is 19 years old\n",
      "Oscar is 31 years old\n",
      "Amy is 29 years old\n",
      "Paul is 46 years old\n",
      "Etta is 17 years old\n"
     ]
    }
   ],
   "source": [
    "from datetime import datetime\n",
    "def spilt_lst(list):\n",
    "    # name_list=[]\n",
    "    # age_list=[]\n",
    "    for i in list:\n",
    "        name=i['name']\n",
    "        year=i['age']\n",
    "        age=datetime.now().year- year\n",
    "        # name_list.append(name)\n",
    "        # age_list.append(age)\n",
    "        print(f\"{name} is {age} years old\") \n",
    "\n",
    "    \n",
    "customer_list = [\n",
    "                    {\"name\": \"Bob\", \"age\": 1999},\n",
    "                    {\"name\": \"Jack\", \"age\": 1995},\n",
    "                    {\"name\": \"Lisa\", \"age\": 2005},\n",
    "                    {\"name\": \"Maria\", \"age\": 2010},\n",
    "                    {\"name\": \"Ben\", \"age\": 2007},\n",
    "                    {\"name\": \"Emma\", \"age\": 2006},\n",
    "                    {\"name\": \"Oscar\", \"age\": 1994},\n",
    "                    {\"name\": \"Amy\", \"age\": 1996},\n",
    "                    {\"name\": \"Paul\", \"age\": 1979},\n",
    "                    {\"name\": \"Etta\", \"age\": 2008}\n",
    "                ]\n",
    "\n",
    "spilt_lst(customer_list)"
   ]
  },
  {
   "cell_type": "markdown",
   "id": "5c213cd8",
   "metadata": {},
   "source": [
    "# 18 11"
   ]
  },
  {
   "cell_type": "code",
   "execution_count": 11,
   "id": "5ac63ebc",
   "metadata": {},
   "outputs": [
    {
     "data": {
      "text/plain": [
       "[11, 12, 13, 14, 20, 23, 24, 25]"
      ]
     },
     "execution_count": 11,
     "metadata": {},
     "output_type": "execute_result"
    }
   ],
   "source": [
    "def remove_2number(list):\n",
    "    list.sort()\n",
    "    newlst=[x for x in list[1:-1] ]\n",
    "    return newlst\n",
    "\n",
    "ages = [20, 24, 14, 9, 12, 13, 25, 23, 40, 11]\n",
    "\n",
    "remove_2number(ages)"
   ]
  },
  {
   "cell_type": "markdown",
   "id": "b3103741",
   "metadata": {},
   "source": [
    "# 18 12"
   ]
  },
  {
   "cell_type": "code",
   "execution_count": 13,
   "id": "28be7483",
   "metadata": {},
   "outputs": [
    {
     "data": {
      "text/plain": [
       "[15, 13, 16, 18, 19, 10]"
      ]
     },
     "execution_count": 13,
     "metadata": {},
     "output_type": "execute_result"
    }
   ],
   "source": [
    "def commonlist(lst1,lst2):\n",
    "    commonlist=[]\n",
    "    for i in lst1:\n",
    "        for j in lst2:\n",
    "            if i==j:\n",
    "                commonlist.append(i)\n",
    "\n",
    "    return commonlist\n",
    "\n",
    "berlin = [15, 13, 16, 18, 19, 10, 12 ]\n",
    "munich = [7, 13, 15, 20, 19, 18, 10, 16]\n",
    "\n",
    "commonlist(berlin, munich)\n"
   ]
  },
  {
   "cell_type": "markdown",
   "id": "afcc3e36",
   "metadata": {},
   "source": [
    "# 18 13\n"
   ]
  },
  {
   "cell_type": "markdown",
   "id": "a95466ae",
   "metadata": {},
   "source": []
  },
  {
   "cell_type": "markdown",
   "id": "67dc3019",
   "metadata": {},
   "source": []
  },
  {
   "cell_type": "code",
   "execution_count": null,
   "id": "2cc8b8aa",
   "metadata": {},
   "outputs": [
    {
     "data": {
      "text/plain": [
       "[15, 13, 16, 18, 19, 10]"
      ]
     },
     "execution_count": 16,
     "metadata": {},
     "output_type": "execute_result"
    }
   ],
   "source": [
    "def removedup(lst1):\n",
    "    ages_unique = []\n",
    "    for i in lst1:\n",
    "        if i not in ages_unique:\n",
    "            ages_unique.append(i)\n",
    "    return ages_unique\n",
    "\n",
    "lst=[15, 13, 16, 18, 19, 15, 10]\n",
    "# remove the element in the list \n",
    "\n",
    "removedup(lst)"
   ]
  },
  {
   "cell_type": "markdown",
   "id": "e639dec6",
   "metadata": {},
   "source": [
    "# 19"
   ]
  },
  {
   "cell_type": "code",
   "execution_count": 4,
   "id": "64d95a62",
   "metadata": {},
   "outputs": [
    {
     "name": "stdout",
     "output_type": "stream",
     "text": [
      "False\n",
      "True\n"
     ]
    }
   ],
   "source": [
    "def indicator(lst,intgers):\n",
    "    for i in lst:\n",
    "        if i == intgers:\n",
    "\n",
    "            return True\n",
    "    \n",
    "    return False\n",
    "\n",
    "lst=[15, 13, 16, 18, 19, 15, 10]\n",
    "intgers=1\n",
    "\n",
    "\n",
    "\n",
    "print(indicator(lst,intgers))\n",
    "print(indicator(lst,13))  \n"
   ]
  }
 ],
 "metadata": {
  "kernelspec": {
   "display_name": "CAB",
   "language": "python",
   "name": "python3"
  },
  "language_info": {
   "codemirror_mode": {
    "name": "ipython",
    "version": 3
   },
   "file_extension": ".py",
   "mimetype": "text/x-python",
   "name": "python",
   "nbconvert_exporter": "python",
   "pygments_lexer": "ipython3",
   "version": "3.12.11"
  }
 },
 "nbformat": 4,
 "nbformat_minor": 5
}
